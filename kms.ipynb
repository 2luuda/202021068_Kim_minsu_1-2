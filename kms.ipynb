{
  "nbformat": 4,
  "nbformat_minor": 0,
  "metadata": {
    "colab": {
      "private_outputs": true,
      "provenance": [],
      "authorship_tag": "ABX9TyM6QZ1Mfa2POwdOBeTUBQ9e",
      "include_colab_link": true
    },
    "kernelspec": {
      "name": "python3",
      "display_name": "Python 3"
    },
    "language_info": {
      "name": "python"
    }
  },
  "cells": [
    {
      "cell_type": "markdown",
      "metadata": {
        "id": "view-in-github",
        "colab_type": "text"
      },
      "source": [
        "<a href=\"https://colab.research.google.com/github/2luuda/202021068_Kim_minsu_1-2/blob/main/kms.ipynb\" target=\"_parent\"><img src=\"https://colab.research.google.com/assets/colab-badge.svg\" alt=\"Open In Colab\"/></a>"
      ]
    },
    {
      "cell_type": "code",
      "execution_count": null,
      "metadata": {
        "id": "q74hvflOGBSF"
      },
      "outputs": [],
      "source": [
        "!pip install control\n",
        "import numpy as np\n",
        "import matplotlib.pyplot as plt\n",
        "import control\n",
        "\n",
        "# 전달함수 G(s) 정의\n",
        "num = [100] # 분자 계수\n",
        "den = [1, 5, 6] # 분모 계수: s^2 + 5s + 6\n",
        "G = control.TransferFunction(num, den)\n",
        "\n",
        "# 폐루프 전달함수 T(s) 계산\n",
        "H = 1  # 피드백 루프의 전달함수 (1이면 피드백이 없는 상태)\n",
        "T = control.series(G, H)\n",
        "T = control.minreal(T)  # 최소 실수화\n",
        "\n",
        "print(T)\n",
        "\n",
        "# 시간 벡터 생성\n",
        "t = np.linspace(0, 10, 1000)\n",
        "\n",
        "# Unit step 입력 생성\n",
        "u = np.ones_like(t)\n",
        "\n",
        "# 시스템 응답 계산\n",
        "t, y = control.step_response(T, T=t, input=u)\n",
        "\n",
        "# 응답곡선 그리기\n",
        "plt.plot(t, y)\n",
        "plt.xlabel('Time')\n",
        "plt.ylabel('Output')\n",
        "plt.title('Step Response')\n",
        "plt.grid(True)\n",
        "plt.show()\n",
        "\n",
        "# 주파수 응답 계산\n",
        "omega, mag, phase = control.bode(T)\n",
        "\n",
        "# 보드선도 그리기\n",
        "plt.figure()\n",
        "plt.semilogx(omega, mag)  # 주파수 응답의 크기\n",
        "plt.xlabel('Frequency')\n",
        "plt.ylabel('Magnitude (dB)')\n",
        "plt.title('Bode Plot - Magnitude')\n",
        "plt.grid(True)\n",
        "\n",
        "plt.figure()\n",
        "plt.semilogx(omega, phase)  # 주파수 응답의 위상\n",
        "plt.xlabel('Frequency')\n",
        "plt.ylabel('Phase (degrees)')\n",
        "plt.title('Bode Plot - Phase')\n",
        "plt.grid(True)\n",
        "\n",
        "plt.show()"
      ]
    }
  ]
}